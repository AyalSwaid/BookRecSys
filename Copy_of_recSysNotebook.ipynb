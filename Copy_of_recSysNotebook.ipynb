{
  "nbformat": 4,
  "nbformat_minor": 0,
  "metadata": {
    "colab": {
      "provenance": [],
      "authorship_tag": "ABX9TyM36okP4rmktCb/7xXc8m/i",
      "include_colab_link": true
    },
    "kernelspec": {
      "name": "python3",
      "display_name": "Python 3"
    },
    "language_info": {
      "name": "python"
    }
  },
  "cells": [
    {
      "cell_type": "markdown",
      "metadata": {
        "id": "view-in-github",
        "colab_type": "text"
      },
      "source": [
        "<a href=\"https://colab.research.google.com/github/AyalSwaid/BookRecSys/blob/main/Copy_of_recSysNotebook.ipynb\" target=\"_parent\"><img src=\"https://colab.research.google.com/assets/colab-badge.svg\" alt=\"Open In Colab\"/></a>"
      ]
    },
    {
      "cell_type": "markdown",
      "source": [
        "# Download and unzip datasets"
      ],
      "metadata": {
        "id": "6XiNUC7WeO21"
      }
    },
    {
      "cell_type": "code",
      "source": [
        "with open(\"kaggle.json\", \"w\") as file:\n",
        "    file.write('{\"username\":\"ayalsweed\",\"key\":\"256c319bd85d5f872b0a7f47d2b522da\"}')\n",
        "\n",
        "!mkdir ../root/.kaggle\n",
        "!cp kaggle.json ../root/.kaggle\n",
        "!chmod 600 ../root/.kaggle/kaggle.json"
      ],
      "metadata": {
        "id": "McNCuq9woWYk"
      },
      "execution_count": null,
      "outputs": []
    },
    {
      "cell_type": "code",
      "execution_count": null,
      "metadata": {
        "colab": {
          "base_uri": "https://localhost:8080/"
        },
        "id": "AVZE3_yab6ER",
        "outputId": "591bbc01-19a6-4f38-d78d-af7cdea0a638"
      },
      "outputs": [
        {
          "output_type": "stream",
          "name": "stdout",
          "text": [
            "Downloading book-recommendation-dataset.zip to /content\n",
            " 96% 23.0M/23.8M [00:00<00:00, 60.0MB/s]\n",
            "100% 23.8M/23.8M [00:00<00:00, 60.2MB/s]\n",
            "Archive:  book-recommendation-dataset.zip\n",
            "  inflating: Books.csv               \n",
            "  inflating: Ratings.csv             \n",
            "  inflating: Users.csv               \n",
            "  inflating: recsys_taxonomy2.png    \n"
          ]
        }
      ],
      "source": [
        "!kaggle datasets download -d arashnic/book-recommendation-dataset\n",
        "!unzip -n \"book-recommendation-dataset.zip\""
      ]
    },
    {
      "cell_type": "markdown",
      "source": [
        "# imports"
      ],
      "metadata": {
        "id": "jFn3JpoqeVEO"
      }
    },
    {
      "cell_type": "code",
      "source": [
        "import pandas as pd\n",
        "import numpy as np\n",
        "import matplotlib.pyplot as plt"
      ],
      "metadata": {
        "id": "Ns4knqYxeUro"
      },
      "execution_count": null,
      "outputs": []
    },
    {
      "cell_type": "markdown",
      "source": [
        "# EDA"
      ],
      "metadata": {
        "id": "Lz45L_07fPgq"
      }
    },
    {
      "cell_type": "code",
      "source": [
        "# read datasets\n",
        "ratings = pd.read_csv(\"Ratings.csv\")\n",
        "ratings = ratings.rename(columns = {'Book-Rating':'rating', 'User-ID': 'userID'})\n",
        "users = pd.read_csv(\"Users.csv\")\n",
        "books = pd.read_csv(\"Books.csv\")\n",
        "\n"
      ],
      "metadata": {
        "colab": {
          "base_uri": "https://localhost:8080/"
        },
        "id": "q_Y-bxj6fO7T",
        "outputId": "b2412d39-5ae0-4fdc-a7ea-168cdc5d2de3"
      },
      "execution_count": null,
      "outputs": [
        {
          "output_type": "stream",
          "name": "stderr",
          "text": [
            "<ipython-input-18-300aa37479f9>:5: DtypeWarning: Columns (3) have mixed types. Specify dtype option on import or set low_memory=False.\n",
            "  books = pd.read_csv(\"Books.csv\")\n"
          ]
        }
      ]
    },
    {
      "cell_type": "code",
      "source": [
        "ratings.info()"
      ],
      "metadata": {
        "colab": {
          "base_uri": "https://localhost:8080/"
        },
        "id": "UrcgKU9yf48Q",
        "outputId": "e3faa532-01b0-4ece-c99c-47d5e14f330d"
      },
      "execution_count": null,
      "outputs": [
        {
          "output_type": "stream",
          "name": "stdout",
          "text": [
            "<class 'pandas.core.frame.DataFrame'>\n",
            "RangeIndex: 1149780 entries, 0 to 1149779\n",
            "Data columns (total 3 columns):\n",
            " #   Column  Non-Null Count    Dtype \n",
            "---  ------  --------------    ----- \n",
            " 0   userID  1149780 non-null  int64 \n",
            " 1   ISBN    1149780 non-null  object\n",
            " 2   rating  1149780 non-null  int64 \n",
            "dtypes: int64(2), object(1)\n",
            "memory usage: 26.3+ MB\n"
          ]
        }
      ]
    },
    {
      "cell_type": "code",
      "source": [
        "users.info()"
      ],
      "metadata": {
        "colab": {
          "base_uri": "https://localhost:8080/"
        },
        "id": "QvVgL7UKgOOB",
        "outputId": "b437fc3a-e59f-44a4-e738-8179c7656b90"
      },
      "execution_count": null,
      "outputs": [
        {
          "output_type": "stream",
          "name": "stdout",
          "text": [
            "<class 'pandas.core.frame.DataFrame'>\n",
            "RangeIndex: 278858 entries, 0 to 278857\n",
            "Data columns (total 3 columns):\n",
            " #   Column    Non-Null Count   Dtype  \n",
            "---  ------    --------------   -----  \n",
            " 0   User-ID   278858 non-null  int64  \n",
            " 1   Location  278858 non-null  object \n",
            " 2   Age       168096 non-null  float64\n",
            "dtypes: float64(1), int64(1), object(1)\n",
            "memory usage: 6.4+ MB\n"
          ]
        }
      ]
    },
    {
      "cell_type": "code",
      "source": [
        "books.info()"
      ],
      "metadata": {
        "colab": {
          "base_uri": "https://localhost:8080/"
        },
        "id": "JbSlsoJ7gVLS",
        "outputId": "beb32330-3f50-461f-c45b-bed75715f6da"
      },
      "execution_count": null,
      "outputs": [
        {
          "output_type": "stream",
          "name": "stdout",
          "text": [
            "<class 'pandas.core.frame.DataFrame'>\n",
            "RangeIndex: 271360 entries, 0 to 271359\n",
            "Data columns (total 8 columns):\n",
            " #   Column               Non-Null Count   Dtype \n",
            "---  ------               --------------   ----- \n",
            " 0   ISBN                 271360 non-null  object\n",
            " 1   Book-Title           271360 non-null  object\n",
            " 2   Book-Author          271359 non-null  object\n",
            " 3   Year-Of-Publication  271360 non-null  object\n",
            " 4   Publisher            271358 non-null  object\n",
            " 5   Image-URL-S          271360 non-null  object\n",
            " 6   Image-URL-M          271360 non-null  object\n",
            " 7   Image-URL-L          271357 non-null  object\n",
            "dtypes: object(8)\n",
            "memory usage: 16.6+ MB\n"
          ]
        }
      ]
    },
    {
      "cell_type": "markdown",
      "source": [
        "## Check ratings distributions"
      ],
      "metadata": {
        "id": "bOWS7jaCgx02"
      }
    },
    {
      "cell_type": "code",
      "source": [
        "def show_ratings_dist(df):\n",
        "    rating_dist = df.groupby(['rating']).count().reset_index()\n",
        "    # rating_dist\n",
        "    # plt.bar(rating_dist[\"rating\"].values,rating_dist[\"userID\"])\n",
        "\n",
        "    fig, ax = plt.subplots()\n",
        "    bars = ax.bar(rating_dist[\"rating\"].values, rating_dist[\"userID\"])\n",
        "    ax.set_xlabel(\"Rating\")\n",
        "    ax.set_ylabel(\"Frequency\")\n",
        "    ax.bar_label(bars)\n",
        "show_ratings_dist(ratings)"
      ],
      "metadata": {
        "colab": {
          "base_uri": "https://localhost:8080/",
          "height": 449
        },
        "id": "VnTxPmxGg1e3",
        "outputId": "b41d96c1-4179-4cdc-8820-b6857e3369e9"
      },
      "execution_count": null,
      "outputs": [
        {
          "output_type": "display_data",
          "data": {
            "text/plain": [
              "<Figure size 640x480 with 1 Axes>"
            ],
            "image/png": "[encoded data removed]"
          },
          "metadata": {}
        }
      ]
    },
    {
      "cell_type": "markdown",
      "source": [
        "normalize rating to max 5"
      ],
      "metadata": {
        "id": "CMs182eFqnl-"
      }
    },
    {
      "cell_type": "code",
      "source": [
        "# r = ratings.copy()\n",
        "ratings[\"rating\"] = ratings[\"rating\"].apply(lambda e: e//2)\n",
        "show_ratings_dist()"
      ],
      "metadata": {
        "id": "VCaFrVEAg1dh",
        "colab": {
          "base_uri": "https://localhost:8080/",
          "height": 449
        },
        "outputId": "ba724683-9cba-4ba9-bd1d-df7ff164a063"
      },
      "execution_count": null,
      "outputs": [
        {
          "output_type": "display_data",
          "data": {
            "text/plain": [
              "<Figure size 640x480 with 1 Axes>"
            ],
            "image/png": "[encoded data removed]"
          },
          "metadata": {}
        }
      ]
    },
    {
      "cell_type": "markdown",
      "source": [
        "## build matrix factorization model\n",
        "\n"
      ],
      "metadata": {
        "id": "18KVCXSjfkxx"
      }
    },
    {
      "cell_type": "code",
      "source": [
        "!pip install scikit-surprise"
      ],
      "metadata": {
        "id": "aUu7k5e1vgNd"
      },
      "execution_count": null,
      "outputs": []
    },
    {
      "cell_type": "code",
      "source": [
        "from surprise import Dataset\n",
        "from surprise import Reader\n",
        "from surprise import SVD\n",
        "from surprise.model_selection import cross_validate\n",
        "from surprise.model_selection import GridSearchCV\n",
        "\n",
        "reader = Reader(rating_scale=(1,5))\n",
        "data = Dataset.load_from_df(ratings[['userID', 'ISBN', 'rating']], reader)\n",
        "\n",
        "svd = SVD(n_epochs=30)\n",
        "# cross_validate(model, data, measures=['RMSE', 'MAE'], cv=5, verbose=True)\n",
        "\n",
        "\n",
        "param_grid = {'n_factors': [16, 32, 64],\n",
        "              'lr_all': [0.01, 0.05]}\n",
        "\n",
        "for nf in param_grid[\"n_factors\"]:\n",
        "    for ra in param_grid[\"lr_all\"]:\n",
        "        print(f\"\\n\\nTrying n_factors={nf}, reg_all={ra}\")\n",
        "        cross_validate(svd, data, measures=['RMSE', 'MAE'], cv=2, verbose=True)\n",
        "\n",
        "# grid_search = GridSearchCV(svd, param_grid, measures=['rmse', 'mae'], cv=3)\n",
        "# grid_search.fit(data)"
      ],
      "metadata": {
        "colab": {
          "base_uri": "https://localhost:8080/"
        },
        "id": "fpAWPE8KvdMt",
        "outputId": "6da391a9-cb61-44ec-a9bd-4af27d1da135"
      },
      "execution_count": null,
      "outputs": [
        {
          "output_type": "stream",
          "name": "stdout",
          "text": [
            "\n",
            "\n",
            "Trying n_factors=16, reg_all=0.01\n",
            "Evaluating RMSE, MAE of algorithm SVD on 2 split(s).\n",
            "\n",
            "                  Fold 1  Fold 2  Mean    Std     \n",
            "RMSE (testset)    3.5158  3.5133  3.5146  0.0013  \n",
            "MAE (testset)     2.9962  2.9975  2.9969  0.0007  \n",
            "Fit time          28.33   27.47   27.90   0.43    \n",
            "Test time         7.22    7.17    7.19    0.02    \n",
            "\n",
            "\n",
            "Trying n_factors=16, reg_all=0.05\n",
            "Evaluating RMSE, MAE of algorithm SVD on 2 split(s).\n",
            "\n",
            "                  Fold 1  Fold 2  Mean    Std     \n",
            "RMSE (testset)    3.5151  3.5180  3.5166  0.0014  \n",
            "MAE (testset)     2.9971  2.9993  2.9982  0.0011  \n",
            "Fit time          28.79   27.94   28.36   0.42    \n",
            "Test time         8.15    7.57    7.86    0.29    \n",
            "\n",
            "\n",
            "Trying n_factors=32, reg_all=0.01\n",
            "Evaluating RMSE, MAE of algorithm SVD on 2 split(s).\n",
            "\n",
            "                  Fold 1  Fold 2  Mean    Std     \n",
            "RMSE (testset)    3.5163  3.5149  3.5156  0.0007  \n",
            "MAE (testset)     2.9983  2.9979  2.9981  0.0002  \n",
            "Fit time          28.14   28.07   28.11   0.04    \n",
            "Test time         6.97    7.74    7.35    0.39    \n",
            "\n",
            "\n",
            "Trying n_factors=32, reg_all=0.05\n",
            "Evaluating RMSE, MAE of algorithm SVD on 2 split(s).\n",
            "\n",
            "                  Fold 1  Fold 2  Mean    Std     \n",
            "RMSE (testset)    3.5174  3.5160  3.5167  0.0007  \n",
            "MAE (testset)     2.9987  2.9988  2.9988  0.0000  \n",
            "Fit time          27.66   27.50   27.58   0.08    \n",
            "Test time         7.58    6.57    7.07    0.50    \n",
            "\n",
            "\n",
            "Trying n_factors=64, reg_all=0.01\n",
            "Evaluating RMSE, MAE of algorithm SVD on 2 split(s).\n",
            "\n",
            "                  Fold 1  Fold 2  Mean    Std     \n",
            "RMSE (testset)    3.5149  3.5160  3.5155  0.0005  \n",
            "MAE (testset)     2.9976  2.9978  2.9977  0.0001  \n",
            "Fit time          27.46   27.47   27.47   0.01    \n",
            "Test time         6.52    7.58    7.05    0.53    \n",
            "\n",
            "\n",
            "Trying n_factors=64, reg_all=0.05\n",
            "Evaluating RMSE, MAE of algorithm SVD on 2 split(s).\n",
            "\n",
            "                  Fold 1  Fold 2  Mean    Std     \n",
            "RMSE (testset)    3.5143  3.5170  3.5156  0.0014  \n",
            "MAE (testset)     2.9964  3.0003  2.9983  0.0019  \n",
            "Fit time          27.34   28.74   28.04   0.70    \n",
            "Test time         8.11    7.53    7.82    0.29    \n"
          ]
        }
      ]
    }
  ]
}
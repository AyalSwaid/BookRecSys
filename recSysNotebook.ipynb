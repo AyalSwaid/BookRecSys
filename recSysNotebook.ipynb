{
  "nbformat": 4,
  "nbformat_minor": 0,
  "metadata": {
    "colab": {
      "provenance": [],
      "authorship_tag": "ABX9TyNIKM9NyIseHJTe/qGpkblc",
      "include_colab_link": true
    },
    "kernelspec": {
      "name": "python3",
      "display_name": "Python 3"
    },
    "language_info": {
      "name": "python"
    }
  },
  "cells": [
    {
      "cell_type": "markdown",
      "metadata": {
        "id": "view-in-github",
        "colab_type": "text"
      },
      "source": [
        "<a href=\"https://colab.research.google.com/github/AyalSwaid/BookRecSys/blob/main/recSysNotebook.ipynb\" target=\"_parent\"><img src=\"https://colab.research.google.com/assets/colab-badge.svg\" alt=\"Open In Colab\"/></a>"
      ]
    },
    {
      "cell_type": "markdown",
      "source": [
        "# Download and unzip datasets"
      ],
      "metadata": {
        "id": "6XiNUC7WeO21"
      }
    },
    {
      "cell_type": "code",
      "execution_count": 9,
      "metadata": {
        "colab": {
          "base_uri": "https://localhost:8080/"
        },
        "id": "AVZE3_yab6ER",
        "outputId": "55909c07-fe11-4e17-8642-dd751a09e2cb"
      },
      "outputs": [
        {
          "output_type": "stream",
          "name": "stdout",
          "text": [
            "Archive:  book-recommendation-dataset.zip\n",
            "  inflating: Books.csv               \n",
            "  inflating: Ratings.csv             \n",
            "  inflating: Users.csv               \n",
            "  inflating: recsys_taxonomy2.png    \n"
          ]
        }
      ],
      "source": [
        "!kaggle datasets download -d arashnic/book-recommendation-dataset\n",
        "!unzip -n \"book-recommendation-dataset.zip\""
      ]
    },
    {
      "cell_type": "markdown",
      "source": [
        "# imports"
      ],
      "metadata": {
        "id": "jFn3JpoqeVEO"
      }
    },
    {
      "cell_type": "code",
      "source": [
        "import pandas as pd\n",
        "import numpy as np\n",
        "import matplotlib.pyplot as plt"
      ],
      "metadata": {
        "id": "Ns4knqYxeUro"
      },
      "execution_count": 30,
      "outputs": []
    },
    {
      "cell_type": "markdown",
      "source": [
        "# EDA"
      ],
      "metadata": {
        "id": "Lz45L_07fPgq"
      }
    },
    {
      "cell_type": "code",
      "source": [
        "# read datasets\n",
        "ratings = pd.read_csv(\"Ratings.csv\")\n",
        "ratings = ratings.rename(columns = {'Book-Rating':'rating', 'User-ID': 'userID'})\n",
        "users = pd.read_csv(\"Users.csv\")\n",
        "books = pd.read_csv(\"Books.csv\")\n",
        "\n"
      ],
      "metadata": {
        "colab": {
          "base_uri": "https://localhost:8080/"
        },
        "id": "q_Y-bxj6fO7T",
        "outputId": "697e37ff-f1fb-4242-a46f-93da0da7d4e5"
      },
      "execution_count": 16,
      "outputs": [
        {
          "output_type": "stream",
          "name": "stderr",
          "text": [
            "<ipython-input-16-300aa37479f9>:5: DtypeWarning: Columns (3) have mixed types. Specify dtype option on import or set low_memory=False.\n",
            "  books = pd.read_csv(\"Books.csv\")\n"
          ]
        }
      ]
    },
    {
      "cell_type": "code",
      "source": [
        "ratings.info()"
      ],
      "metadata": {
        "colab": {
          "base_uri": "https://localhost:8080/"
        },
        "id": "UrcgKU9yf48Q",
        "outputId": "3b454318-34c8-49cc-80b9-c5a4283215d7"
      },
      "execution_count": 17,
      "outputs": [
        {
          "output_type": "stream",
          "name": "stdout",
          "text": [
            "<class 'pandas.core.frame.DataFrame'>\n",
            "RangeIndex: 1149780 entries, 0 to 1149779\n",
            "Data columns (total 3 columns):\n",
            " #   Column  Non-Null Count    Dtype \n",
            "---  ------  --------------    ----- \n",
            " 0   userID  1149780 non-null  int64 \n",
            " 1   ISBN    1149780 non-null  object\n",
            " 2   rating  1149780 non-null  int64 \n",
            "dtypes: int64(2), object(1)\n",
            "memory usage: 26.3+ MB\n"
          ]
        }
      ]
    },
    {
      "cell_type": "code",
      "source": [
        "users.info()"
      ],
      "metadata": {
        "colab": {
          "base_uri": "https://localhost:8080/"
        },
        "id": "QvVgL7UKgOOB",
        "outputId": "41e6b11a-ea01-4023-d41d-4f620709d158"
      },
      "execution_count": 14,
      "outputs": [
        {
          "output_type": "stream",
          "name": "stdout",
          "text": [
            "<class 'pandas.core.frame.DataFrame'>\n",
            "RangeIndex: 278858 entries, 0 to 278857\n",
            "Data columns (total 3 columns):\n",
            " #   Column    Non-Null Count   Dtype  \n",
            "---  ------    --------------   -----  \n",
            " 0   User-ID   278858 non-null  int64  \n",
            " 1   Location  278858 non-null  object \n",
            " 2   Age       168096 non-null  float64\n",
            "dtypes: float64(1), int64(1), object(1)\n",
            "memory usage: 6.4+ MB\n"
          ]
        }
      ]
    },
    {
      "cell_type": "code",
      "source": [
        "books.info()"
      ],
      "metadata": {
        "colab": {
          "base_uri": "https://localhost:8080/"
        },
        "id": "JbSlsoJ7gVLS",
        "outputId": "d3b931ca-8e09-4938-f7f2-b77708653d96"
      },
      "execution_count": 15,
      "outputs": [
        {
          "output_type": "stream",
          "name": "stdout",
          "text": [
            "<class 'pandas.core.frame.DataFrame'>\n",
            "RangeIndex: 271360 entries, 0 to 271359\n",
            "Data columns (total 8 columns):\n",
            " #   Column               Non-Null Count   Dtype \n",
            "---  ------               --------------   ----- \n",
            " 0   ISBN                 271360 non-null  object\n",
            " 1   Book-Title           271360 non-null  object\n",
            " 2   Book-Author          271359 non-null  object\n",
            " 3   Year-Of-Publication  271360 non-null  object\n",
            " 4   Publisher            271358 non-null  object\n",
            " 5   Image-URL-S          271360 non-null  object\n",
            " 6   Image-URL-M          271360 non-null  object\n",
            " 7   Image-URL-L          271357 non-null  object\n",
            "dtypes: object(8)\n",
            "memory usage: 16.6+ MB\n"
          ]
        }
      ]
    },
    {
      "cell_type": "markdown",
      "source": [
        "## Check ratings distributions"
      ],
      "metadata": {
        "id": "bOWS7jaCgx02"
      }
    },
    {
      "cell_type": "code",
      "source": [
        "rating_dist = ratings.groupby(['rating']).count().reset_index()\n",
        "rating_dist\n",
        "# plt.bar(rating_dist[\"rating\"].values,rating_dist[\"userID\"])\n",
        "\n",
        "fig, ax = plt.subplots()\n",
        "bars = ax.bar(rating_dist[\"rating\"].values, rating_dist[\"userID\"])\n",
        "\n",
        "ax.bar_label(bars)"
      ],
      "metadata": {
        "colab": {
          "base_uri": "https://localhost:8080/",
          "height": 621
        },
        "id": "VnTxPmxGg1e3",
        "outputId": "9199b545-c1a7-478a-e542-5836b48c4399"
      },
      "execution_count": 35,
      "outputs": [
        {
          "output_type": "execute_result",
          "data": {
            "text/plain": [
              "[Text(0, 0, '716109'),\n",
              " Text(0, 0, '1770'),\n",
              " Text(0, 0, '2759'),\n",
              " Text(0, 0, '5996'),\n",
              " Text(0, 0, '8904'),\n",
              " Text(0, 0, '50974'),\n",
              " Text(0, 0, '36924'),\n",
              " Text(0, 0, '76457'),\n",
              " Text(0, 0, '103736'),\n",
              " Text(0, 0, '67541'),\n",
              " Text(0, 0, '78610')]"
            ]
          },
          "metadata": {},
          "execution_count": 35
        },
        {
          "output_type": "display_data",
          "data": {
            "text/plain": [
              "<Figure size 640x480 with 1 Axes>"
            ],
            "image/png": "[encoded data removed]"
          },
          "metadata": {}
        }
      ]
    },
    {
      "cell_type": "code",
      "source": [],
      "metadata": {
        "id": "VCaFrVEAg1dh"
      },
      "execution_count": null,
      "outputs": []
    },
    {
      "cell_type": "markdown",
      "source": [],
      "metadata": {
        "id": "18KVCXSjfkxx"
      }
    },
    {
      "cell_type": "markdown",
      "source": [],
      "metadata": {
        "id": "9dh94bQufyGa"
      }
    }
  ]
}